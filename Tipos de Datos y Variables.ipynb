{
 "cells": [
  {
   "cell_type": "markdown",
   "id": "b43335ab",
   "metadata": {},
   "source": [
    "# Panorama\n",
    "Int - Integer/Enteros\n",
    "\n",
    "Float _ Float/Números con décimales\n",
    "\n",
    "Complex _ Complex/Complejos (Números con una parte real y una imaginaria)\n",
    "\n",
    "Bool - Boolean (True/Flase)/Valores Lógicos (Verdadero o Flaso)\n",
    "\n",
    "Str - Strings / Cadenas, Textos"
   ]
  },
  {
   "cell_type": "markdown",
   "id": "e25288ad",
   "metadata": {},
   "source": [
    "# Int - Integers/Enteros "
   ]
  },
  {
   "cell_type": "code",
   "execution_count": null,
   "id": "ad5337b0",
   "metadata": {},
   "outputs": [],
   "source": [
    "my_integer = 13\n",
    "print(\"El valor de my_integer es: \", my_integer)\n",
    "print(\"El tipo de dato de my_integer es: \", type (my_integer))"
   ]
  },
  {
   "cell_type": "code",
   "execution_count": null,
   "id": "cc3fe5df",
   "metadata": {},
   "outputs": [],
   "source": [
    "my_integer = 2033\n",
    "print(\"El valor de my_integer es: \", my_integer)\n",
    "print(\"El tipo de dato de my_integer es: \", type (my_integer))"
   ]
  },
  {
   "cell_type": "code",
   "execution_count": null,
   "id": "1e396e1d",
   "metadata": {},
   "outputs": [],
   "source": [
    "my_integer = 578316\n",
    "print(\"El valor de my_integer es: \", my_integer)\n",
    "print(\"El tipo de dato de my_integer es: \", type (my_integer))"
   ]
  },
  {
   "cell_type": "code",
   "execution_count": null,
   "id": "dbe2b39c",
   "metadata": {},
   "outputs": [],
   "source": [
    "# error\n",
    "my_integer = 578316d\n",
    "print(\"El valor de my_integer es: \", my_integer)\n",
    "print(\"El tipo de dato de my_integer es: \", type (my_integer))"
   ]
  },
  {
   "cell_type": "code",
   "execution_count": null,
   "id": "eeb17ffe",
   "metadata": {},
   "outputs": [],
   "source": [
    "# error\n",
    "my_integer = 578316@\n",
    "print(\"El valor de my_integer es: \", my_integer)\n",
    "print(\"El tipo de dato de my_integer es: \", type (my_integer))"
   ]
  },
  {
   "cell_type": "markdown",
   "id": "937601c0",
   "metadata": {},
   "source": [
    "# Float - Float/Números con Decimales"
   ]
  },
  {
   "cell_type": "code",
   "execution_count": null,
   "id": "cec1f523",
   "metadata": {},
   "outputs": [],
   "source": [
    "my_float = 10.3\n",
    "print(\"El valor de my_float es: \", my_float)\n",
    "print(\"El tipo de dato de my_float es: \", type (my_float))"
   ]
  },
  {
   "cell_type": "code",
   "execution_count": null,
   "id": "3155fd3e",
   "metadata": {},
   "outputs": [],
   "source": [
    "my_float = 10.0\n",
    "print(\"El valor de my_float es: \", my_float)\n",
    "print(\"El tipo de dato de my_float es: \", type (my_float))"
   ]
  },
  {
   "cell_type": "code",
   "execution_count": null,
   "id": "3433d064",
   "metadata": {},
   "outputs": [],
   "source": [
    "my_float = 10.0h\n",
    "print(\"El valor de my_float es: \", my_float)\n",
    "print(\"El tipo de dato de my_float es: \", type (my_float))"
   ]
  },
  {
   "cell_type": "code",
   "execution_count": null,
   "id": "4dc20795",
   "metadata": {},
   "outputs": [],
   "source": [
    "# Notación científica (e)\n",
    "my_float = 2e3 # 2.0*10**3\n",
    "print(\"El valor de my_float es: \", my_float)\n",
    "print(\"El tipo de dato de my_float es: \", type (my_float))"
   ]
  },
  {
   "cell_type": "code",
   "execution_count": null,
   "id": "be30cc9b",
   "metadata": {},
   "outputs": [],
   "source": [
    "1.1"
   ]
  },
  {
   "cell_type": "code",
   "execution_count": null,
   "id": "f97a5de7",
   "metadata": {},
   "outputs": [],
   "source": [
    "1.1e0 # 1.1 * 10**0"
   ]
  },
  {
   "cell_type": "code",
   "execution_count": null,
   "id": "fa7f9eeb",
   "metadata": {},
   "outputs": [],
   "source": [
    "1.1e1 # 1.1 * 10**1"
   ]
  },
  {
   "cell_type": "code",
   "execution_count": null,
   "id": "8bb49319",
   "metadata": {},
   "outputs": [],
   "source": [
    "1.1e2 # 1.1 * 10**2"
   ]
  },
  {
   "cell_type": "code",
   "execution_count": null,
   "id": "2849871a",
   "metadata": {},
   "outputs": [],
   "source": [
    "1.1e3 # 1.1 * 10**3"
   ]
  },
  {
   "cell_type": "code",
   "execution_count": null,
   "id": "6ef0428f",
   "metadata": {},
   "outputs": [],
   "source": [
    "8e-2 # 8 * 10**-2"
   ]
  },
  {
   "cell_type": "markdown",
   "id": "5ea5a12b",
   "metadata": {},
   "source": [
    "### Complex _ Complex/Complejos (Números con una parte real y una imaginaria)\n",
    "\n",
    "complex = x + yj\n",
    "\n",
    "x = Parte real\n",
    "\n",
    "yj = Parte imaginaria"
   ]
  },
  {
   "cell_type": "code",
   "execution_count": null,
   "id": "4eb7512f",
   "metadata": {},
   "outputs": [],
   "source": [
    "my_complex = 3 + 9j\n",
    "print(\"El valor de my_complex es: \", my_complex)\n",
    "print(\"El tipo de dato de my_complex es: \", type (my_complex))"
   ]
  },
  {
   "cell_type": "code",
   "execution_count": null,
   "id": "6662e73c",
   "metadata": {},
   "outputs": [],
   "source": [
    "my_complex = 2 + 5j\n",
    "print(\"El valor de my_complex es: \", my_complex)\n",
    "print(\"El tipo de dato de my_complex es: \", type (my_complex))"
   ]
  },
  {
   "cell_type": "markdown",
   "id": "73bfb092",
   "metadata": {},
   "source": [
    "### Bool - Boolean (True/Flase)/Valores Lógicos (Verdadero o Flaso)"
   ]
  },
  {
   "cell_type": "code",
   "execution_count": null,
   "id": "7c4fdc08",
   "metadata": {},
   "outputs": [],
   "source": [
    "my_boolean = False\n",
    "print(\"El valor de my_boolean es: \", my_boolean)\n",
    "print(\"El tipo de dato de my_boolean es: \", type (my_boolean))"
   ]
  },
  {
   "cell_type": "code",
   "execution_count": null,
   "id": "580807d8",
   "metadata": {},
   "outputs": [],
   "source": [
    "my_boolean = True\n",
    "print(\"El valor de my_boolean es: \", my_boolean)\n",
    "print(\"El tipo de dato de my_boolean es: \", type (my_boolean))"
   ]
  },
  {
   "cell_type": "code",
   "execution_count": null,
   "id": "ac750114",
   "metadata": {},
   "outputs": [],
   "source": [
    "# True = 1\n",
    "# False = 0"
   ]
  },
  {
   "cell_type": "code",
   "execution_count": null,
   "id": "e45c07f7",
   "metadata": {},
   "outputs": [],
   "source": [
    "# 3\n",
    "print (True+True+True)"
   ]
  },
  {
   "cell_type": "code",
   "execution_count": null,
   "id": "b29e0040",
   "metadata": {},
   "outputs": [],
   "source": [
    "# 0\n",
    "print (False+False+False)"
   ]
  },
  {
   "cell_type": "code",
   "execution_count": null,
   "id": "1102e71f",
   "metadata": {},
   "outputs": [],
   "source": [
    "# 2\n",
    "print (True+False+True)"
   ]
  },
  {
   "cell_type": "code",
   "execution_count": null,
   "id": "f2979936",
   "metadata": {},
   "outputs": [],
   "source": [
    "# 1\n",
    "print (True-True+True)"
   ]
  },
  {
   "cell_type": "code",
   "execution_count": null,
   "id": "6be03f8b",
   "metadata": {},
   "outputs": [],
   "source": [
    "# -2\n",
    "print (False-True-True)"
   ]
  },
  {
   "cell_type": "markdown",
   "id": "7a791664",
   "metadata": {},
   "source": [
    "### Str - Strings / Cadenas, Textos"
   ]
  },
  {
   "cell_type": "code",
   "execution_count": null,
   "id": "6e21a7d8",
   "metadata": {},
   "outputs": [],
   "source": [
    "my_string = \"Backend Python\"\n",
    "print(\"El valor de my_string es: \", my_string)\n",
    "print(\"El tipo de dato de my_string es: \", type (my_string))"
   ]
  },
  {
   "cell_type": "code",
   "execution_count": null,
   "id": "b04043c8",
   "metadata": {},
   "outputs": [],
   "source": [
    "my_string = \"Curso de Ebac\"\n",
    "print(\"El valor de my_string es: \", my_string)\n",
    "print(\"El tipo de dato de my_string es: \", type (my_string))"
   ]
  },
  {
   "cell_type": "code",
   "execution_count": null,
   "id": "1778addb",
   "metadata": {},
   "outputs": [],
   "source": [
    "my_string = \"Aprendiendo a usar strings/cadenas/textos\"\n",
    "print(\"El valor de my_string es: \", my_string)\n",
    "print(\"El tipo de dato de my_string es: \", type (my_string))"
   ]
  },
  {
   "cell_type": "code",
   "execution_count": null,
   "id": "2b4916ca",
   "metadata": {},
   "outputs": [],
   "source": [
    "my_string = 'you're amazing'\n",
    "print(\"El valor de my_string es: \", my_string)\n",
    "print(\"El tipo de dato de my_string es: \", type (my_string))"
   ]
  },
  {
   "cell_type": "code",
   "execution_count": null,
   "id": "c6846801",
   "metadata": {},
   "outputs": [],
   "source": [
    "my_string = \"\"\"\n",
    "Es una cadena con múltiples líneas\\n\n",
    "Como puedes ver es genial para textos más largos\\n\n",
    "¿Puedes imaginar cuántas cosas podrías hacer manejando texto de internet?\n",
    "\"\"\"\n",
    "print(\"El valor de my_string es: \", my_string)\n",
    "print(\"El tipo de dato de my_string es: \", type (my_string))"
   ]
  },
  {
   "cell_type": "markdown",
   "id": "e933f1d6",
   "metadata": {},
   "source": [
    "## Variables\n",
    "### ¿Qué es una variable?\n",
    "- Son un espacio temporal para guardar un valor con un nombre específico\n",
    "- No hay necesidad de declarar el tipo de dato explicitamente\n",
    "- Python es un lenguaje tipado dinámicamente, lo que quiere decir que el tipo de dato se define mientras corre el programa\n",
    "- Las variables en Python funcionan diferente que otros Lenguajes de programación \n",
    "- No necesitamos crear variable, solo asignamos un nombre a un valor usando el operador de asignación\n",
    "### Tipos de Variables:\n",
    "- Variables Globales: aquellas que se utilizarán para todo el programa\n",
    "- Variables Locales: aquellas que se van a utilizar solo en un bloque específico"
   ]
  },
  {
   "cell_type": "markdown",
   "id": "fe7530d4",
   "metadata": {},
   "source": [
    "# Variables Globales\n",
    "- Declaramos variables globales afuera de funciones\n",
    "- El valor de la variable pueee ser constante para todo el programa\n",
    "- Cualquier función podrá acceder a estas variables\n",
    "- Podemos decir que las Variables Globales tienen un alcance global\n",
    "- Normalmente son más usadas para constantes\n",
    "- Las Variables Globales mantienen sus valores a través de la ejecución completa de tu programa\n",
    "- Una Variable Global puede ser accesada por cualquier función"
   ]
  },
  {
   "cell_type": "code",
   "execution_count": null,
   "id": "61a017f8",
   "metadata": {},
   "outputs": [],
   "source": [
    "# Variable Global\n",
    "my_global_variable=50\n",
    "\n",
    "def my_function_1():\n",
    "    pass\n",
    "\n",
    "def my_function_2():\n",
    "        pass"
   ]
  },
  {
   "cell_type": "code",
   "execution_count": null,
   "id": "1c8989c0",
   "metadata": {},
   "outputs": [],
   "source": [
    "# Variables Locales\n",
    "def my_function_1():\n",
    "    my_local_variable=5\n",
    "\n",
    "def my_function_2():\n",
    "        my_local_variable=35"
   ]
  },
  {
   "cell_type": "code",
   "execution_count": null,
   "id": "bf976082",
   "metadata": {},
   "outputs": [],
   "source": [
    "# Variable Global\n",
    "my_global_variable=50\n",
    "\n",
    "def my_function_1():\n",
    "    print(\"My_function_1 - El valor de my_global_variable es: \", my_global_variable)\n",
    "\n",
    "def my_function_2():\n",
    "    print(\"My_function_2 - El valor de my_global_variable es: \", my_global_variable)"
   ]
  },
  {
   "cell_type": "code",
   "execution_count": null,
   "id": "f5873f24",
   "metadata": {},
   "outputs": [],
   "source": [
    "my_function_1()"
   ]
  },
  {
   "cell_type": "code",
   "execution_count": null,
   "id": "c001031f",
   "metadata": {},
   "outputs": [],
   "source": [
    "my_function_2()"
   ]
  },
  {
   "cell_type": "code",
   "execution_count": null,
   "id": "9b3beb0f",
   "metadata": {},
   "outputs": [],
   "source": [
    "# Preferencia al valor local, y después al global\n",
    "my_variable=50 # Global\n",
    "\n",
    "def my_function_1():\n",
    "    my_variable=10 # Local\n",
    "    print(\"My_function_1 - El valor de my_variable es: \", my_variable)\n",
    "\n",
    "def my_function_2():\n",
    "    my_variable=20 # Local\n",
    "    print(\"My_function_2 - El valor de my_variable es: \", my_variable)\n",
    "    \n",
    "def my_function_3():\n",
    "    print(\"My_function_3 - El valor de my_variable es: \", my_variable)    "
   ]
  },
  {
   "cell_type": "code",
   "execution_count": null,
   "id": "99a5b672",
   "metadata": {},
   "outputs": [],
   "source": [
    "my_function_1()"
   ]
  },
  {
   "cell_type": "code",
   "execution_count": null,
   "id": "76b6b068",
   "metadata": {},
   "outputs": [],
   "source": [
    "my_function_2()"
   ]
  },
  {
   "cell_type": "code",
   "execution_count": null,
   "id": "e6df2cd5",
   "metadata": {},
   "outputs": [],
   "source": [
    "my_function_3()"
   ]
  },
  {
   "cell_type": "markdown",
   "id": "4e9af69f",
   "metadata": {},
   "source": [
    "# Variables Locales\n",
    "- Podemos usarlas dentro de una función\n",
    "- Podemos tener una restricción al acceder a una variable local desde otra función\n",
    "- No podemos usarlas durante todo el programa \n",
    "- El alcance y visibilidad se limitan al interior de la función \n",
    "- Lo que dure la función será lo que dure el alcance de nuestra variable "
   ]
  },
  {
   "cell_type": "code",
   "execution_count": null,
   "id": "c5fadb11",
   "metadata": {},
   "outputs": [],
   "source": [
    "# Variable Global\n",
    "my_global_variable=50\n",
    "\n",
    "def my_function_1():\n",
    "    pass\n",
    "\n",
    "def my_function_2():\n",
    "        pass"
   ]
  },
  {
   "cell_type": "code",
   "execution_count": null,
   "id": "9ddc607c",
   "metadata": {},
   "outputs": [],
   "source": [
    "# Variables Locales\n",
    "def my_function_1():\n",
    "    my_local_variable=5\n",
    "\n",
    "def my_function_2():\n",
    "        my_local_variable=35"
   ]
  },
  {
   "cell_type": "code",
   "execution_count": 2,
   "id": "2207a54a",
   "metadata": {},
   "outputs": [],
   "source": [
    "def my_function_1():\n",
    "    my_variable=10 # Local\n",
    "    print(\"My_function_1 - El valor de my_variable es: \", my_variable)\n",
    "\n",
    "def my_function_2():\n",
    "    my_variable=20 # Local\n",
    "    print(\"My_function_2 - El valor de my_variable es: \", my_variable)\n",
    "    \n",
    "def my_function_3():\n",
    "    print(\"My_function_3 - El valor de my_variable es: \", my_variable)    "
   ]
  },
  {
   "cell_type": "code",
   "execution_count": 3,
   "id": "aeb31605",
   "metadata": {},
   "outputs": [
    {
     "name": "stdout",
     "output_type": "stream",
     "text": [
      "My_function_1 - El valor de my_variable es:  10\n"
     ]
    }
   ],
   "source": [
    "my_function_1()"
   ]
  },
  {
   "cell_type": "code",
   "execution_count": 4,
   "id": "540ee7a9",
   "metadata": {},
   "outputs": [
    {
     "name": "stdout",
     "output_type": "stream",
     "text": [
      "My_function_2 - El valor de my_variable es:  20\n"
     ]
    }
   ],
   "source": [
    "my_function_2()"
   ]
  },
  {
   "cell_type": "code",
   "execution_count": 5,
   "id": "f6491230",
   "metadata": {},
   "outputs": [
    {
     "ename": "NameError",
     "evalue": "name 'my_variable' is not defined",
     "output_type": "error",
     "traceback": [
      "\u001b[0;31m---------------------------------------------------------------------------\u001b[0m",
      "\u001b[0;31mNameError\u001b[0m                                 Traceback (most recent call last)",
      "Cell \u001b[0;32mIn[5], line 1\u001b[0m\n\u001b[0;32m----> 1\u001b[0m my_function_3()\n",
      "Cell \u001b[0;32mIn[2], line 10\u001b[0m, in \u001b[0;36mmy_function_3\u001b[0;34m()\u001b[0m\n\u001b[1;32m      9\u001b[0m \u001b[38;5;28;01mdef\u001b[39;00m \u001b[38;5;21mmy_function_3\u001b[39m():\n\u001b[0;32m---> 10\u001b[0m     \u001b[38;5;28mprint\u001b[39m(\u001b[38;5;124m\"\u001b[39m\u001b[38;5;124mMy_function_3 - El valor de my_variable es: \u001b[39m\u001b[38;5;124m\"\u001b[39m, my_variable)\n",
      "\u001b[0;31mNameError\u001b[0m: name 'my_variable' is not defined"
     ]
    }
   ],
   "source": [
    "# error\n",
    "my_function_3()"
   ]
  },
  {
   "cell_type": "markdown",
   "id": "01e6138e",
   "metadata": {},
   "source": [
    "# Palabra reservada \"global\""
   ]
  },
  {
   "cell_type": "code",
   "execution_count": 7,
   "id": "94cad512",
   "metadata": {},
   "outputs": [],
   "source": [
    "def my_function_1():\n",
    "    my_variable=10 # Local\n",
    "    print(\"My_function_1 - El valor de my_variable es: \", my_variable)\n",
    "\n",
    "def my_function_2():\n",
    "    global my_variable # Global\n",
    "    my_variable=20\n",
    "    print(\"My_function_2 - El valor de my_variable es: \", my_variable)\n",
    "    \n",
    "def my_function_3():\n",
    "    print(\"My_function_3 - El valor de my_variable es: \", my_variable)    "
   ]
  },
  {
   "cell_type": "code",
   "execution_count": 8,
   "id": "c464d9c5",
   "metadata": {},
   "outputs": [
    {
     "name": "stdout",
     "output_type": "stream",
     "text": [
      "My_function_1 - El valor de my_variable es:  10\n"
     ]
    }
   ],
   "source": [
    "my_function_1()"
   ]
  },
  {
   "cell_type": "code",
   "execution_count": 9,
   "id": "fe885bb1",
   "metadata": {},
   "outputs": [
    {
     "name": "stdout",
     "output_type": "stream",
     "text": [
      "My_function_2 - El valor de my_variable es:  20\n"
     ]
    }
   ],
   "source": [
    "my_function_2()"
   ]
  },
  {
   "cell_type": "code",
   "execution_count": 10,
   "id": "50324b7c",
   "metadata": {},
   "outputs": [
    {
     "name": "stdout",
     "output_type": "stream",
     "text": [
      "My_function_3 - El valor de my_variable es:  20\n"
     ]
    }
   ],
   "source": [
    "my_function_3()"
   ]
  },
  {
   "cell_type": "code",
   "execution_count": 11,
   "id": "d1f4cf9f",
   "metadata": {},
   "outputs": [],
   "source": [
    "def my_function_1():\n",
    "    my_variable=10 # Local\n",
    "    print(\"My_function_1 - El valor de my_variable es: \", my_variable)\n",
    "\n",
    "def my_function_2():\n",
    "    global a, b, c, d, e # Global\n",
    "    a=10\n",
    "    b=20\n",
    "    c=30\n",
    "    d=40\n",
    "    e=50\n",
    "    print(\"My_function_2 - El valor de a es: \", a)\n",
    "    print(\"My_function_2 - El valor de b es: \", b)\n",
    "    print(\"My_function_2 - El valor de c es: \", c)\n",
    "    print(\"My_function_2 - El valor de d es: \", d)\n",
    "    print(\"My_function_2 - El valor de e es: \", e)\n",
    "def my_function_3():\n",
    "    print(\"My_function_3 - El valor de a es: \", a)\n",
    "    print(\"My_function_3 - El valor de b es: \", b)\n",
    "    print(\"My_function_3 - El valor de c es: \", c)\n",
    "    print(\"My_function_3 - El valor de d es: \", d)\n",
    "    print(\"My_function_3 - El valor de e es: \", e)"
   ]
  },
  {
   "cell_type": "code",
   "execution_count": 12,
   "id": "c65a2fa9",
   "metadata": {},
   "outputs": [
    {
     "name": "stdout",
     "output_type": "stream",
     "text": [
      "My_function_1 - El valor de my_variable es:  10\n"
     ]
    }
   ],
   "source": [
    "my_function_1()"
   ]
  },
  {
   "cell_type": "code",
   "execution_count": 13,
   "id": "9d97a46b",
   "metadata": {},
   "outputs": [
    {
     "name": "stdout",
     "output_type": "stream",
     "text": [
      "My_function_2 - El valor de a es:  10\n",
      "My_function_2 - El valor de b es:  20\n",
      "My_function_2 - El valor de c es:  30\n",
      "My_function_2 - El valor de d es:  40\n",
      "My_function_2 - El valor de e es:  50\n"
     ]
    }
   ],
   "source": [
    "my_function_2()"
   ]
  },
  {
   "cell_type": "code",
   "execution_count": 14,
   "id": "3eb872b8",
   "metadata": {},
   "outputs": [
    {
     "name": "stdout",
     "output_type": "stream",
     "text": [
      "My_function_3 - El valor de a es:  10\n",
      "My_function_3 - El valor de b es:  20\n",
      "My_function_3 - El valor de c es:  30\n",
      "My_function_3 - El valor de d es:  40\n",
      "My_function_3 - El valor de e es:  50\n"
     ]
    }
   ],
   "source": [
    "my_function_3()"
   ]
  },
  {
   "cell_type": "markdown",
   "id": "59fc22cf",
   "metadata": {},
   "source": [
    "# Tipos de Enteros\n",
    "- Forma Decimal\n",
    "- Forma Binaria\n",
    "- Forma Octal\n",
    "- Forma Hexadecimal"
   ]
  },
  {
   "cell_type": "markdown",
   "id": "55876d8d",
   "metadata": {},
   "source": [
    "## Forma Decimal"
   ]
  },
  {
   "cell_type": "code",
   "execution_count": 15,
   "id": "7be93239",
   "metadata": {},
   "outputs": [
    {
     "name": "stdout",
     "output_type": "stream",
     "text": [
      "El valor de my_decimal_number es:  55\n"
     ]
    }
   ],
   "source": [
    "my_decimal_number = 55\n",
    "print(\"El valor de my_decimal_number es: \", my_decimal_number)"
   ]
  },
  {
   "cell_type": "code",
   "execution_count": 16,
   "id": "674554c0",
   "metadata": {},
   "outputs": [
    {
     "name": "stdout",
     "output_type": "stream",
     "text": [
      "El valor de my_decimal_number es:  377663648839931\n"
     ]
    }
   ],
   "source": [
    "my_decimal_number = 377663648839931\n",
    "print(\"El valor de my_decimal_number es: \", my_decimal_number)"
   ]
  },
  {
   "cell_type": "code",
   "execution_count": 17,
   "id": "a21ac327",
   "metadata": {},
   "outputs": [
    {
     "ename": "SyntaxError",
     "evalue": "invalid decimal literal (1692414311.py, line 1)",
     "output_type": "error",
     "traceback": [
      "\u001b[0;36m  Cell \u001b[0;32mIn[17], line 1\u001b[0;36m\u001b[0m\n\u001b[0;31m    my_decimal_number = 55d\u001b[0m\n\u001b[0m                         ^\u001b[0m\n\u001b[0;31mSyntaxError\u001b[0m\u001b[0;31m:\u001b[0m invalid decimal literal\n"
     ]
    }
   ],
   "source": [
    "# error\n",
    "my_decimal_number = 55d\n",
    "print(\"El valor de my_decimal_number es: \", my_decimal_number)"
   ]
  },
  {
   "cell_type": "code",
   "execution_count": 18,
   "id": "d3553eba",
   "metadata": {},
   "outputs": [
    {
     "ename": "SyntaxError",
     "evalue": "invalid syntax (719297318.py, line 2)",
     "output_type": "error",
     "traceback": [
      "\u001b[0;36m  Cell \u001b[0;32mIn[18], line 2\u001b[0;36m\u001b[0m\n\u001b[0;31m    my_decimal_number = 55@\u001b[0m\n\u001b[0m                           ^\u001b[0m\n\u001b[0;31mSyntaxError\u001b[0m\u001b[0;31m:\u001b[0m invalid syntax\n"
     ]
    }
   ],
   "source": [
    "# error\n",
    "my_decimal_number = 55@\n",
    "print(\"El valor de my_decimal_number es: \", my_decimal_number)"
   ]
  },
  {
   "cell_type": "markdown",
   "id": "15ea20d6",
   "metadata": {},
   "source": [
    "# Forma Binaria\n",
    "- Código organizado en bytes\n",
    "- Lenguaje Binario\n",
    "- Lenguaje de las máquinas (1 y 0)\n",
    "\n",
    "### Valor Base: 2\n",
    "\n",
    "- Solamente acepta dos dígitos (1 y 0)\n",
    "- Usamos el prefijo '0b' o '0B'"
   ]
  },
  {
   "cell_type": "code",
   "execution_count": 20,
   "id": "311e0b72",
   "metadata": {},
   "outputs": [
    {
     "name": "stdout",
     "output_type": "stream",
     "text": [
      "El valor de my_decimal_number es:  11\n"
     ]
    }
   ],
   "source": [
    "my_decimal_number = 11\n",
    "print(\"El valor de my_decimal_number es: \", my_decimal_number)"
   ]
  },
  {
   "cell_type": "code",
   "execution_count": 19,
   "id": "6b033548",
   "metadata": {},
   "outputs": [
    {
     "name": "stdout",
     "output_type": "stream",
     "text": [
      "El valor de my_binary_number es:  3\n"
     ]
    }
   ],
   "source": [
    "my_binary_number = 0b11 # 1*2**1 + 1*2**0\n",
    "print(\"El valor de my_binary_number es: \", my_binary_number)"
   ]
  },
  {
   "cell_type": "code",
   "execution_count": 22,
   "id": "a85df7bb",
   "metadata": {},
   "outputs": [
    {
     "name": "stdout",
     "output_type": "stream",
     "text": [
      "El valor de my_decimal_number es:  111\n"
     ]
    }
   ],
   "source": [
    "my_decimal_number = 111\n",
    "print(\"El valor de my_decimal_number es: \", my_decimal_number)"
   ]
  },
  {
   "cell_type": "code",
   "execution_count": 23,
   "id": "2c540b42",
   "metadata": {},
   "outputs": [
    {
     "name": "stdout",
     "output_type": "stream",
     "text": [
      "El valor de my_binary_number es:  7\n"
     ]
    }
   ],
   "source": [
    "my_binary_number = 0b111 # 1*2**1 + 1*2**0\n",
    "print(\"El valor de my_binary_number es: \", my_binary_number)"
   ]
  },
  {
   "cell_type": "markdown",
   "id": "5475561f",
   "metadata": {},
   "source": [
    "# Forma Octal\n",
    "\n",
    "### Valor base: 8\n",
    "- Solamente acepta digitos del 0 al 7 \n",
    "- Usamos el prefijo '0o' o '0O'"
   ]
  },
  {
   "cell_type": "code",
   "execution_count": 24,
   "id": "4da8a8a9",
   "metadata": {},
   "outputs": [
    {
     "name": "stdout",
     "output_type": "stream",
     "text": [
      "El valor de my_decimal_number es:  17\n"
     ]
    }
   ],
   "source": [
    "my_decimal_number = 17\n",
    "print(\"El valor de my_decimal_number es: \", my_decimal_number)"
   ]
  },
  {
   "cell_type": "code",
   "execution_count": 25,
   "id": "c5d3ebf7",
   "metadata": {},
   "outputs": [
    {
     "name": "stdout",
     "output_type": "stream",
     "text": [
      "El valor de my_octal_number es:  15\n"
     ]
    }
   ],
   "source": [
    "my_octal_number = 0o17 # 1*8**1 + 7*8**0\n",
    "print(\"El valor de my_octal_number es: \", my_octal_number)"
   ]
  },
  {
   "cell_type": "code",
   "execution_count": 26,
   "id": "cb02d639",
   "metadata": {},
   "outputs": [
    {
     "name": "stdout",
     "output_type": "stream",
     "text": [
      "El valor de my_decimal_number es:  153\n"
     ]
    }
   ],
   "source": [
    "my_decimal_number = 153\n",
    "print(\"El valor de my_decimal_number es: \", my_decimal_number)"
   ]
  },
  {
   "cell_type": "code",
   "execution_count": 27,
   "id": "54db0ca3",
   "metadata": {},
   "outputs": [
    {
     "name": "stdout",
     "output_type": "stream",
     "text": [
      "El valor de my_octal_number es:  107\n"
     ]
    }
   ],
   "source": [
    "my_octal_number = 0O153 # 1*8**2 + 5*8**1 + 3*8**0\n",
    "print(\"El valor de my_octal_number es: \", my_octal_number)"
   ]
  },
  {
   "cell_type": "markdown",
   "id": "3dac1b21",
   "metadata": {},
   "source": [
    "# Forma Hexadecimal\n",
    "\n",
    "### Valor Base: 16\n",
    "- Acepta dígitos del 0 al 9\n",
    "- Acepta letras de la 'a/A' a la 'f/F'\n",
    "- Usamos el prefijo '0x' o '0X'\n",
    "\n",
    "- 0\n",
    "- 1\n",
    "- 2\n",
    "- 3\n",
    "- 4\n",
    "- 5\n",
    "- 6\n",
    "- 7\n",
    "- 8\n",
    "- 9\n",
    "- A = 10\n",
    "- B = 11\n",
    "- C = 12\n",
    "- D = 13\n",
    "- E = 14\n",
    "- F = 15"
   ]
  },
  {
   "cell_type": "code",
   "execution_count": 28,
   "id": "1bc69ed6",
   "metadata": {},
   "outputs": [
    {
     "name": "stdout",
     "output_type": "stream",
     "text": [
      "El valor de my_decimal_number es:  17\n"
     ]
    }
   ],
   "source": [
    "my_decimal_number = 17\n",
    "print(\"El valor de my_decimal_number es: \", my_decimal_number)"
   ]
  },
  {
   "cell_type": "code",
   "execution_count": 29,
   "id": "ee122208",
   "metadata": {},
   "outputs": [
    {
     "name": "stdout",
     "output_type": "stream",
     "text": [
      "El valor de my_hex_number es:  23\n"
     ]
    }
   ],
   "source": [
    "my_hex_number = 0x17 # 1*16**1 + 7*16**0\n",
    "print(\"El valor de my_hex_number es: \", my_hex_number)"
   ]
  },
  {
   "cell_type": "code",
   "execution_count": 30,
   "id": "aa681081",
   "metadata": {},
   "outputs": [
    {
     "name": "stdout",
     "output_type": "stream",
     "text": [
      "El valor de my_hex_number es:  28\n"
     ]
    }
   ],
   "source": [
    "my_hex_number = 0x1c # 1*16**1 + 12*16**0\n",
    "print(\"El valor de my_hex_number es: \", my_hex_number)"
   ]
  },
  {
   "cell_type": "code",
   "execution_count": null,
   "id": "31025eca",
   "metadata": {},
   "outputs": [],
   "source": []
  }
 ],
 "metadata": {
  "kernelspec": {
   "display_name": "Python 3 (ipykernel)",
   "language": "python",
   "name": "python3"
  },
  "language_info": {
   "codemirror_mode": {
    "name": "ipython",
    "version": 3
   },
   "file_extension": ".py",
   "mimetype": "text/x-python",
   "name": "python",
   "nbconvert_exporter": "python",
   "pygments_lexer": "ipython3",
   "version": "3.11.5"
  }
 },
 "nbformat": 4,
 "nbformat_minor": 5
}
