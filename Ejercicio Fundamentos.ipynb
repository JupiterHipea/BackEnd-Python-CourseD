{
 "cells": [
  {
   "cell_type": "markdown",
   "id": "bd82e395",
   "metadata": {},
   "source": [
    "## Cadena"
   ]
  },
  {
   "cell_type": "code",
   "execution_count": 14,
   "id": "309206d3",
   "metadata": {},
   "outputs": [
    {
     "name": "stdout",
     "output_type": "stream",
     "text": [
      "Ingrese su color favorito: Rojo\n",
      "Rojo\n",
      "<class 'str'>\n"
     ]
    }
   ],
   "source": [
    "x = (my_number)\n",
    "my_number = input (\"Ingrese su color favorito: \")\n",
    "print (my_number)\n",
    "print(type(x))"
   ]
  },
  {
   "cell_type": "markdown",
   "id": "59ddddda",
   "metadata": {},
   "source": [
    "## Entero"
   ]
  },
  {
   "cell_type": "code",
   "execution_count": 15,
   "id": "cab04721",
   "metadata": {},
   "outputs": [
    {
     "name": "stdout",
     "output_type": "stream",
     "text": [
      "ingrese un número entre 6 y 12: 8\n",
      "8\n",
      "<class 'int'>\n"
     ]
    }
   ],
   "source": [
    "x = 0\n",
    "my_number = input(\"ingrese un número entre 6 y 12: \")\n",
    "print (my_number)\n",
    "print(type(x))"
   ]
  },
  {
   "cell_type": "markdown",
   "id": "972e00a7",
   "metadata": {},
   "source": [
    "## Float"
   ]
  },
  {
   "cell_type": "code",
   "execution_count": 12,
   "id": "c209f26c",
   "metadata": {},
   "outputs": [
    {
     "name": "stdout",
     "output_type": "stream",
     "text": [
      "ingrese un número decimal: 15.6\n",
      "15.6\n",
      "<class 'float'>\n"
     ]
    }
   ],
   "source": [
    "x = 0.0\n",
    "my_number = input (\"ingrese un número decimal: \")\n",
    "print (my_number)\n",
    "print(type(x))"
   ]
  },
  {
   "cell_type": "code",
   "execution_count": null,
   "id": "d48d7d7f",
   "metadata": {},
   "outputs": [],
   "source": []
  }
 ],
 "metadata": {
  "kernelspec": {
   "display_name": "Python 3 (ipykernel)",
   "language": "python",
   "name": "python3"
  },
  "language_info": {
   "codemirror_mode": {
    "name": "ipython",
    "version": 3
   },
   "file_extension": ".py",
   "mimetype": "text/x-python",
   "name": "python",
   "nbconvert_exporter": "python",
   "pygments_lexer": "ipython3",
   "version": "3.11.5"
  }
 },
 "nbformat": 4,
 "nbformat_minor": 5
}
